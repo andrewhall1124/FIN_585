{
 "cells": [
  {
   "cell_type": "code",
   "execution_count": 2,
   "metadata": {},
   "outputs": [],
   "source": [
    "import numpy as np\n",
    "import matplotlib.pyplot as plt\n",
    "import pandas as pd"
   ]
  },
  {
   "cell_type": "code",
   "execution_count": 3,
   "metadata": {},
   "outputs": [],
   "source": [
    "# Read in the data\n",
    "df = pd.read_csv('crsp_daily_cut.csv')"
   ]
  },
  {
   "cell_type": "code",
   "execution_count": 4,
   "metadata": {},
   "outputs": [
    {
     "data": {
      "text/html": [
       "<div>\n",
       "<style scoped>\n",
       "    .dataframe tbody tr th:only-of-type {\n",
       "        vertical-align: middle;\n",
       "    }\n",
       "\n",
       "    .dataframe tbody tr th {\n",
       "        vertical-align: top;\n",
       "    }\n",
       "\n",
       "    .dataframe thead th {\n",
       "        text-align: right;\n",
       "    }\n",
       "</style>\n",
       "<table border=\"1\" class=\"dataframe\">\n",
       "  <thead>\n",
       "    <tr style=\"text-align: right;\">\n",
       "      <th></th>\n",
       "      <th>Unnamed: 0</th>\n",
       "      <th>permno</th>\n",
       "      <th>caldt</th>\n",
       "      <th>shrcd</th>\n",
       "      <th>excd</th>\n",
       "      <th>siccd</th>\n",
       "      <th>prc</th>\n",
       "      <th>ret</th>\n",
       "      <th>vol</th>\n",
       "      <th>shr</th>\n",
       "    </tr>\n",
       "  </thead>\n",
       "  <tbody>\n",
       "    <tr>\n",
       "      <th>0</th>\n",
       "      <td>109545</td>\n",
       "      <td>10026</td>\n",
       "      <td>2023-01-05</td>\n",
       "      <td>11</td>\n",
       "      <td>3</td>\n",
       "      <td>2052</td>\n",
       "      <td>149.60</td>\n",
       "      <td>-0.010713</td>\n",
       "      <td>60472.0</td>\n",
       "      <td>19229.0</td>\n",
       "    </tr>\n",
       "    <tr>\n",
       "      <th>1</th>\n",
       "      <td>109546</td>\n",
       "      <td>10026</td>\n",
       "      <td>2023-01-06</td>\n",
       "      <td>11</td>\n",
       "      <td>3</td>\n",
       "      <td>2052</td>\n",
       "      <td>152.64</td>\n",
       "      <td>0.020321</td>\n",
       "      <td>57034.0</td>\n",
       "      <td>19229.0</td>\n",
       "    </tr>\n",
       "    <tr>\n",
       "      <th>2</th>\n",
       "      <td>109547</td>\n",
       "      <td>10026</td>\n",
       "      <td>2023-01-09</td>\n",
       "      <td>11</td>\n",
       "      <td>3</td>\n",
       "      <td>2052</td>\n",
       "      <td>149.61</td>\n",
       "      <td>-0.019851</td>\n",
       "      <td>63214.0</td>\n",
       "      <td>19229.0</td>\n",
       "    </tr>\n",
       "    <tr>\n",
       "      <th>3</th>\n",
       "      <td>109548</td>\n",
       "      <td>10026</td>\n",
       "      <td>2023-01-10</td>\n",
       "      <td>11</td>\n",
       "      <td>3</td>\n",
       "      <td>2052</td>\n",
       "      <td>149.87</td>\n",
       "      <td>0.001738</td>\n",
       "      <td>112759.0</td>\n",
       "      <td>19229.0</td>\n",
       "    </tr>\n",
       "    <tr>\n",
       "      <th>4</th>\n",
       "      <td>109549</td>\n",
       "      <td>10026</td>\n",
       "      <td>2023-01-11</td>\n",
       "      <td>11</td>\n",
       "      <td>3</td>\n",
       "      <td>2052</td>\n",
       "      <td>152.39</td>\n",
       "      <td>0.016815</td>\n",
       "      <td>57350.0</td>\n",
       "      <td>19229.0</td>\n",
       "    </tr>\n",
       "  </tbody>\n",
       "</table>\n",
       "</div>"
      ],
      "text/plain": [
       "   Unnamed: 0  permno       caldt  shrcd  excd  siccd     prc       ret  \\\n",
       "0      109545   10026  2023-01-05     11     3   2052  149.60 -0.010713   \n",
       "1      109546   10026  2023-01-06     11     3   2052  152.64  0.020321   \n",
       "2      109547   10026  2023-01-09     11     3   2052  149.61 -0.019851   \n",
       "3      109548   10026  2023-01-10     11     3   2052  149.87  0.001738   \n",
       "4      109549   10026  2023-01-11     11     3   2052  152.39  0.016815   \n",
       "\n",
       "        vol      shr  \n",
       "0   60472.0  19229.0  \n",
       "1   57034.0  19229.0  \n",
       "2   63214.0  19229.0  \n",
       "3  112759.0  19229.0  \n",
       "4   57350.0  19229.0  "
      ]
     },
     "execution_count": 4,
     "metadata": {},
     "output_type": "execute_result"
    }
   ],
   "source": [
    "df.head()"
   ]
  },
  {
   "cell_type": "code",
   "execution_count": null,
   "metadata": {},
   "outputs": [],
   "source": []
  }
 ],
 "metadata": {
  "kernelspec": {
   "display_name": "Python 3",
   "language": "python",
   "name": "python3"
  },
  "language_info": {
   "codemirror_mode": {
    "name": "ipython",
    "version": 3
   },
   "file_extension": ".py",
   "mimetype": "text/x-python",
   "name": "python",
   "nbconvert_exporter": "python",
   "pygments_lexer": "ipython3",
   "version": "3.10.8"
  }
 },
 "nbformat": 4,
 "nbformat_minor": 2
}
