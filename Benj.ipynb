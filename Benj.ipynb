{
 "cells": [
  {
   "cell_type": "code",
   "execution_count": 1,
   "metadata": {},
   "outputs": [
    {
     "name": "stderr",
     "output_type": "stream",
     "text": [
      "c:\\Users\\benja\\AppData\\Local\\Programs\\Python\\Python310\\lib\\site-packages\\scipy\\__init__.py:146: UserWarning: A NumPy version >=1.16.5 and <1.23.0 is required for this version of SciPy (detected version 1.26.4\n",
      "  warnings.warn(f\"A NumPy version >={np_minversion} and <{np_maxversion}\"\n"
     ]
    }
   ],
   "source": [
    "import numpy as np\n",
    "import matplotlib.pyplot as plt\n",
    "import pandas as pd\n",
    "from finance_byu.summarize import summary"
   ]
  },
  {
   "cell_type": "code",
   "execution_count": 2,
   "metadata": {},
   "outputs": [],
   "source": [
    "crsp_daily1 = pd.read_feather('C:/Users/benja/desktop/ACME_Senior/Fin585/Final Project/crsp_daily.ftr')\n",
    "\n",
    "crsp_monthly1 = pd.read_feather('C:/Users/benja/desktop/ACME_Senior/Fin585/Final Project/crsp_monthly.ftr')"
   ]
  },
  {
   "cell_type": "code",
   "execution_count": 27,
   "metadata": {},
   "outputs": [],
   "source": [
    "# for both datasets keep only the data post jan 1 2000 from caldt\n",
    "crsp_daily2 = crsp_daily1[(crsp_daily1['caldt'] >= '1980-01-01') & (crsp_daily1['caldt'] <= '2007-12-31')]\n",
    "crsp_monthly2 = crsp_monthly1[(crsp_monthly1['caldt'] >= '1980-01-01') & (crsp_monthly1['caldt'] <= '2007-12-31')]"
   ]
  },
  {
   "cell_type": "code",
   "execution_count": 98,
   "metadata": {},
   "outputs": [],
   "source": [
    "crsp_daily = crsp_daily2.copy()\n",
    "crsp_monthly = crsp_monthly2.copy()"
   ]
  },
  {
   "cell_type": "code",
   "execution_count": 99,
   "metadata": {},
   "outputs": [],
   "source": [
    "# Cleaning the daily dataset\n",
    "crsp_daily['prc'] = abs(crsp_daily['prc'])\n",
    "crsp_daily['prc_lag'] = crsp_daily.groupby('permno')['prc'].shift(1)\n",
    "# crsp_daily = crsp_daily[crsp_daily['ret'] > -1]\n",
    "crsp_daily = crsp_daily[crsp_daily['prc_lag'] > 5]\n",
    "crsp_daily.sort_values(by = ['permno', 'caldt'], inplace = True)\n",
    "crsp_daily.drop(columns = ['shrcd', 'excd', 'siccd', 'vol', 'shr', 'prc_lag'], inplace = True)\n",
    "\n",
    "# Adding column for positive and negative returns\n",
    "crsp_daily['ret_class'] = np.where(crsp_daily['ret'].shift(1) >= 0, '1', '0')\n",
    "\n",
    "# Calculate rolling yearly number of positive and negative days for each stock\n",
    "n = 250\n",
    "crsp_daily['pos_days'] = crsp_daily.groupby('permno').rolling(window = n, min_periods = n)['ret_class'].sum().reset_index(level=0, drop=True)\n",
    "crsp_daily['neg_days'] = n - crsp_daily['pos_days']\n",
    "crsp_daily['%pos'] = crsp_daily['pos_days'] / n\n",
    "crsp_daily['%neg'] = crsp_daily['neg_days'] / n\n",
    "crsp_daily['%neg - %pos'] = crsp_daily['%neg'] - crsp_daily['%pos']\n",
    "crsp_daily.drop(columns = ['ret_class', 'pos_days', 'neg_days', '%pos', '%neg'], inplace = True)\n",
    "crsp_daily.rename(columns = {'ret': 'daily_ret'}, inplace = True)\n",
    "crsp_daily.dropna(inplace = True)"
   ]
  },
  {
   "cell_type": "code",
   "execution_count": 112,
   "metadata": {},
   "outputs": [],
   "source": [
    "crsp_monthly = crsp_monthly2.copy()\n",
    "# crsp_daily.head()"
   ]
  },
  {
   "cell_type": "code",
   "execution_count": 113,
   "metadata": {},
   "outputs": [],
   "source": [
    "crsp_monthly.drop(columns = ['cusip', 'ticker', 'shrcd', 'excd', 'siccd', 'vol', 'shr', 'cumfacshr'], inplace = True)\n",
    "\n",
    "crsp_monthly['prc'] = abs(crsp_monthly['prc'])\n",
    "crsp_monthly['prc_lag'] = crsp_monthly.groupby('permno')['prc'].shift(1)\n",
    "crsp_monthly = crsp_monthly[crsp_monthly['prc_lag'] > 5]\n",
    "\n",
    "crsp_monthly['monthly_ret_lag'] = crsp_monthly.groupby('permno')['ret'].shift(1) \n",
    "\n",
    "# keep ret >-1\n",
    "# crsp_monthly = crsp_monthly[crsp_monthly['ret'] > -1]\n",
    "crsp_monthly.rename(columns = {'ret': 'monthly_ret'}, inplace = True)\n",
    "# crsp_monthly.head()"
   ]
  },
  {
   "cell_type": "code",
   "execution_count": 114,
   "metadata": {},
   "outputs": [],
   "source": [
    "crsp_monthly['logret'] = np.log(1 + crsp_monthly['monthly_ret_lag'])\n",
    "crsp_monthly['mom'] = crsp_monthly.groupby('permno')['logret'].rolling(11,11).sum().reset_index(drop=True, level=0)\n",
    "crsp_monthly['mom'] = crsp_monthly.groupby('permno')['mom'].shift(2)\n",
    "crsp_monthly.dropna(inplace=True)\n",
    "# crsp_monthly.tail()"
   ]
  },
  {
   "cell_type": "code",
   "execution_count": 115,
   "metadata": {},
   "outputs": [],
   "source": [
    "# I want to merge the two datasets on permno and caldt and keep everymonthly observation\n",
    "crsp = pd.merge(crsp_daily, crsp_monthly, on = ['permno', 'caldt'])\n",
    "\n",
    "# crsp = pd.merge(crsp_daily, crsp_monthly, on = ['permno', 'caldt'], how = 'left')\n",
    "\n",
    "#fill any nans with the data that follows\n",
    "# crsp.fillna(method = 'bfill', inplace = True)\n",
    "\n",
    "crsp.drop(columns = ['logret', 'prc_x', 'prc_y'], inplace = True)\n",
    "\n",
    "# crsp"
   ]
  },
  {
   "cell_type": "code",
   "execution_count": 116,
   "metadata": {},
   "outputs": [],
   "source": [
    "crsp['id'] = np.sign(crsp['mom']) * crsp['%neg - %pos']\n",
    "# crsp.head()"
   ]
  },
  {
   "cell_type": "code",
   "execution_count": 117,
   "metadata": {},
   "outputs": [],
   "source": [
    "crsp['mom_bins'] = crsp.groupby('caldt')['mom'].transform(pd.qcut,2,labels=False)\n",
    "# crsp.tail()"
   ]
  },
  {
   "cell_type": "code",
   "execution_count": 118,
   "metadata": {},
   "outputs": [],
   "source": [
    "crsp['id_bins'] = crsp.groupby([\"caldt\", \"mom_bins\"])['id'].transform(pd.qcut,5, labels=False)\n",
    "# crsp.tail()"
   ]
  },
  {
   "cell_type": "code",
   "execution_count": 119,
   "metadata": {},
   "outputs": [],
   "source": [
    "crsp['id_bins2'] = crsp.groupby([\"caldt\"])['id'].transform(pd.qcut,5, labels=False)\n",
    "# crsp.tail()"
   ]
  },
  {
   "cell_type": "code",
   "execution_count": 124,
   "metadata": {},
   "outputs": [],
   "source": [
    "port = crsp.groupby(['caldt','mom_bins','id_bins'])['monthly_ret'].mean()*100\n",
    "port = port.unstack(level=['mom_bins','id_bins'])\n",
    "# port.head()"
   ]
  },
  {
   "cell_type": "code",
   "execution_count": 125,
   "metadata": {},
   "outputs": [],
   "source": [
    "port1 = crsp.groupby(['caldt','mom_bins','id_bins2'])['monthly_ret'].mean()*100\n",
    "port1 = port1.unstack(level=['mom_bins','id_bins2'])\n",
    "# port1.head()"
   ]
  },
  {
   "cell_type": "code",
   "execution_count": 126,
   "metadata": {},
   "outputs": [
    {
     "data": {
      "text/html": [
       "<div>\n",
       "<style scoped>\n",
       "    .dataframe tbody tr th:only-of-type {\n",
       "        vertical-align: middle;\n",
       "    }\n",
       "\n",
       "    .dataframe tbody tr th {\n",
       "        vertical-align: top;\n",
       "    }\n",
       "\n",
       "    .dataframe thead tr th {\n",
       "        text-align: left;\n",
       "    }\n",
       "</style>\n",
       "<table border=\"1\" class=\"dataframe\">\n",
       "  <thead>\n",
       "    <tr>\n",
       "      <th>mom_bins</th>\n",
       "      <th colspan=\"5\" halign=\"left\">0</th>\n",
       "      <th colspan=\"5\" halign=\"left\">1</th>\n",
       "    </tr>\n",
       "    <tr>\n",
       "      <th>id_bins</th>\n",
       "      <th>0</th>\n",
       "      <th>1</th>\n",
       "      <th>2</th>\n",
       "      <th>3</th>\n",
       "      <th>4</th>\n",
       "      <th>0</th>\n",
       "      <th>1</th>\n",
       "      <th>2</th>\n",
       "      <th>3</th>\n",
       "      <th>4</th>\n",
       "    </tr>\n",
       "  </thead>\n",
       "  <tbody>\n",
       "    <tr>\n",
       "      <th>mean</th>\n",
       "      <td>0.959</td>\n",
       "      <td>1.022</td>\n",
       "      <td>1.114</td>\n",
       "      <td>1.647</td>\n",
       "      <td>2.146</td>\n",
       "      <td>2.339</td>\n",
       "      <td>2.396</td>\n",
       "      <td>1.768</td>\n",
       "      <td>1.002</td>\n",
       "      <td>-0.221</td>\n",
       "    </tr>\n",
       "    <tr>\n",
       "      <th>std</th>\n",
       "      <td>4.472</td>\n",
       "      <td>5.195</td>\n",
       "      <td>5.152</td>\n",
       "      <td>4.785</td>\n",
       "      <td>3.642</td>\n",
       "      <td>3.082</td>\n",
       "      <td>4.186</td>\n",
       "      <td>4.633</td>\n",
       "      <td>5.093</td>\n",
       "      <td>5.545</td>\n",
       "    </tr>\n",
       "    <tr>\n",
       "      <th>tstat</th>\n",
       "      <td>3.849</td>\n",
       "      <td>3.530</td>\n",
       "      <td>3.879</td>\n",
       "      <td>6.176</td>\n",
       "      <td>10.575</td>\n",
       "      <td>13.620</td>\n",
       "      <td>10.273</td>\n",
       "      <td>6.848</td>\n",
       "      <td>3.530</td>\n",
       "      <td>-0.716</td>\n",
       "    </tr>\n",
       "  </tbody>\n",
       "</table>\n",
       "</div>"
      ],
      "text/plain": [
       "mom_bins      0                                    1                        \\\n",
       "id_bins       0      1      2      3       4       0       1      2      3   \n",
       "mean      0.959  1.022  1.114  1.647   2.146   2.339   2.396  1.768  1.002   \n",
       "std       4.472  5.195  5.152  4.785   3.642   3.082   4.186  4.633  5.093   \n",
       "tstat     3.849  3.530  3.879  6.176  10.575  13.620  10.273  6.848  3.530   \n",
       "\n",
       "mom_bins         \n",
       "id_bins       4  \n",
       "mean     -0.221  \n",
       "std       5.545  \n",
       "tstat    -0.716  "
      ]
     },
     "execution_count": 126,
     "metadata": {},
     "output_type": "execute_result"
    }
   ],
   "source": [
    "summary(port).loc[['mean','std','tstat']].round(3)"
   ]
  },
  {
   "cell_type": "code",
   "execution_count": 127,
   "metadata": {},
   "outputs": [
    {
     "data": {
      "text/html": [
       "<div>\n",
       "<style scoped>\n",
       "    .dataframe tbody tr th:only-of-type {\n",
       "        vertical-align: middle;\n",
       "    }\n",
       "\n",
       "    .dataframe tbody tr th {\n",
       "        vertical-align: top;\n",
       "    }\n",
       "\n",
       "    .dataframe thead tr th {\n",
       "        text-align: left;\n",
       "    }\n",
       "</style>\n",
       "<table border=\"1\" class=\"dataframe\">\n",
       "  <thead>\n",
       "    <tr>\n",
       "      <th>mom_bins</th>\n",
       "      <th colspan=\"5\" halign=\"left\">0</th>\n",
       "      <th colspan=\"5\" halign=\"left\">1</th>\n",
       "    </tr>\n",
       "    <tr>\n",
       "      <th>id_bins2</th>\n",
       "      <th>0</th>\n",
       "      <th>1</th>\n",
       "      <th>2</th>\n",
       "      <th>3</th>\n",
       "      <th>4</th>\n",
       "      <th>0</th>\n",
       "      <th>1</th>\n",
       "      <th>2</th>\n",
       "      <th>3</th>\n",
       "      <th>4</th>\n",
       "    </tr>\n",
       "  </thead>\n",
       "  <tbody>\n",
       "    <tr>\n",
       "      <th>mean</th>\n",
       "      <td>0.824</td>\n",
       "      <td>0.815</td>\n",
       "      <td>0.907</td>\n",
       "      <td>0.965</td>\n",
       "      <td>1.919</td>\n",
       "      <td>2.435</td>\n",
       "      <td>1.946</td>\n",
       "      <td>0.941</td>\n",
       "      <td>-0.365</td>\n",
       "      <td>-1.680</td>\n",
       "    </tr>\n",
       "    <tr>\n",
       "      <th>std</th>\n",
       "      <td>4.762</td>\n",
       "      <td>5.361</td>\n",
       "      <td>5.211</td>\n",
       "      <td>5.206</td>\n",
       "      <td>4.035</td>\n",
       "      <td>3.358</td>\n",
       "      <td>4.475</td>\n",
       "      <td>5.043</td>\n",
       "      <td>6.055</td>\n",
       "      <td>8.971</td>\n",
       "    </tr>\n",
       "    <tr>\n",
       "      <th>tstat</th>\n",
       "      <td>2.928</td>\n",
       "      <td>2.711</td>\n",
       "      <td>3.123</td>\n",
       "      <td>3.326</td>\n",
       "      <td>8.532</td>\n",
       "      <td>13.011</td>\n",
       "      <td>7.801</td>\n",
       "      <td>3.349</td>\n",
       "      <td>-1.070</td>\n",
       "      <td>-2.661</td>\n",
       "    </tr>\n",
       "  </tbody>\n",
       "</table>\n",
       "</div>"
      ],
      "text/plain": [
       "mom_bins      0                                   1                       \\\n",
       "id_bins2      0      1      2      3      4       0      1      2      3   \n",
       "mean      0.824  0.815  0.907  0.965  1.919   2.435  1.946  0.941 -0.365   \n",
       "std       4.762  5.361  5.211  5.206  4.035   3.358  4.475  5.043  6.055   \n",
       "tstat     2.928  2.711  3.123  3.326  8.532  13.011  7.801  3.349 -1.070   \n",
       "\n",
       "mom_bins         \n",
       "id_bins2      4  \n",
       "mean     -1.680  \n",
       "std       8.971  \n",
       "tstat    -2.661  "
      ]
     },
     "execution_count": 127,
     "metadata": {},
     "output_type": "execute_result"
    }
   ],
   "source": [
    "summary(port1).loc[['mean','std','tstat']].round(3)"
   ]
  },
  {
   "cell_type": "code",
   "execution_count": null,
   "metadata": {},
   "outputs": [],
   "source": []
  }
 ],
 "metadata": {
  "kernelspec": {
   "display_name": "Python 3",
   "language": "python",
   "name": "python3"
  },
  "language_info": {
   "codemirror_mode": {
    "name": "ipython",
    "version": 3
   },
   "file_extension": ".py",
   "mimetype": "text/x-python",
   "name": "python",
   "nbconvert_exporter": "python",
   "pygments_lexer": "ipython3",
   "version": "3.10.8"
  }
 },
 "nbformat": 4,
 "nbformat_minor": 2
}
